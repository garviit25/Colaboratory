{
  "nbformat": 4,
  "nbformat_minor": 0,
  "metadata": {
    "colab": {
      "name": "Untitled0.ipynb",
      "provenance": [],
      "collapsed_sections": [],
      "authorship_tag": "ABX9TyOlGR9MQt3lW0HjEZ8+661A",
      "include_colab_link": true
    },
    "kernelspec": {
      "name": "python3",
      "display_name": "Python 3"
    }
  },
  "cells": [
    {
      "cell_type": "markdown",
      "metadata": {
        "id": "view-in-github",
        "colab_type": "text"
      },
      "source": [
        "<a href=\"https://colab.research.google.com/github/garviit25/Colaboratory/blob/master/Stock%20price%20predictor(reduced%20RMSE).ipynb\" target=\"_parent\"><img src=\"https://colab.research.google.com/assets/colab-badge.svg\" alt=\"Open In Colab\"/></a>"
      ]
    },
    {
      "cell_type": "code",
      "metadata": {
        "id": "VT7Np4MhIrhL",
        "colab_type": "code",
        "colab": {}
      },
      "source": [
        "import math\n",
        "import pandas_datareader as web\n",
        "import numpy as np\n",
        "import pandas as pd\n",
        "from sklearn.preprocessing import MinMaxScaler\n",
        "from keras.models import Sequential\n",
        "from keras.layers import Dense, LSTM\n",
        "import matplotlib.pyplot as plt\n",
        "plt.style.use('fivethirtyeight')"
      ],
      "execution_count": 0,
      "outputs": []
    },
    {
      "cell_type": "code",
      "metadata": {
        "id": "fgVHvNDVJGu0",
        "colab_type": "code",
        "colab": {
          "base_uri": "https://localhost:8080/",
          "height": 450
        },
        "outputId": "9dab1536-9e1f-420a-a182-843416fcab53"
      },
      "source": [
        "df = web.DataReader('RELIANCE.NS', data_source='yahoo', start='2012-01-01', end='2020-05-08')\n",
        "df "
      ],
      "execution_count": 59,
      "outputs": [
        {
          "output_type": "execute_result",
          "data": {
            "text/html": [
              "<div>\n",
              "<style scoped>\n",
              "    .dataframe tbody tr th:only-of-type {\n",
              "        vertical-align: middle;\n",
              "    }\n",
              "\n",
              "    .dataframe tbody tr th {\n",
              "        vertical-align: top;\n",
              "    }\n",
              "\n",
              "    .dataframe thead th {\n",
              "        text-align: right;\n",
              "    }\n",
              "</style>\n",
              "<table border=\"1\" class=\"dataframe\">\n",
              "  <thead>\n",
              "    <tr style=\"text-align: right;\">\n",
              "      <th></th>\n",
              "      <th>High</th>\n",
              "      <th>Low</th>\n",
              "      <th>Open</th>\n",
              "      <th>Close</th>\n",
              "      <th>Volume</th>\n",
              "      <th>Adj Close</th>\n",
              "    </tr>\n",
              "    <tr>\n",
              "      <th>Date</th>\n",
              "      <th></th>\n",
              "      <th></th>\n",
              "      <th></th>\n",
              "      <th></th>\n",
              "      <th></th>\n",
              "      <th></th>\n",
              "    </tr>\n",
              "  </thead>\n",
              "  <tbody>\n",
              "    <tr>\n",
              "      <th>2012-01-02</th>\n",
              "      <td>354.875000</td>\n",
              "      <td>343.575012</td>\n",
              "      <td>348.399994</td>\n",
              "      <td>353.274994</td>\n",
              "      <td>8598434.0</td>\n",
              "      <td>308.614227</td>\n",
              "    </tr>\n",
              "    <tr>\n",
              "      <th>2012-01-03</th>\n",
              "      <td>363.450012</td>\n",
              "      <td>355.174988</td>\n",
              "      <td>356.125000</td>\n",
              "      <td>362.325012</td>\n",
              "      <td>9366982.0</td>\n",
              "      <td>316.520142</td>\n",
              "    </tr>\n",
              "    <tr>\n",
              "      <th>2012-01-04</th>\n",
              "      <td>365.475006</td>\n",
              "      <td>356.674988</td>\n",
              "      <td>363.700012</td>\n",
              "      <td>358.075012</td>\n",
              "      <td>8476734.0</td>\n",
              "      <td>312.807434</td>\n",
              "    </tr>\n",
              "    <tr>\n",
              "      <th>2012-01-05</th>\n",
              "      <td>362.475006</td>\n",
              "      <td>347.049988</td>\n",
              "      <td>357.500000</td>\n",
              "      <td>349.750000</td>\n",
              "      <td>13239172.0</td>\n",
              "      <td>305.534882</td>\n",
              "    </tr>\n",
              "    <tr>\n",
              "      <th>2012-01-06</th>\n",
              "      <td>362.000000</td>\n",
              "      <td>348.325012</td>\n",
              "      <td>348.524994</td>\n",
              "      <td>358.774994</td>\n",
              "      <td>9406294.0</td>\n",
              "      <td>313.418945</td>\n",
              "    </tr>\n",
              "    <tr>\n",
              "      <th>...</th>\n",
              "      <td>...</td>\n",
              "      <td>...</td>\n",
              "      <td>...</td>\n",
              "      <td>...</td>\n",
              "      <td>...</td>\n",
              "      <td>...</td>\n",
              "    </tr>\n",
              "    <tr>\n",
              "      <th>2020-05-04</th>\n",
              "      <td>1465.000000</td>\n",
              "      <td>1417.449951</td>\n",
              "      <td>1440.000000</td>\n",
              "      <td>1435.199951</td>\n",
              "      <td>24438682.0</td>\n",
              "      <td>1435.199951</td>\n",
              "    </tr>\n",
              "    <tr>\n",
              "      <th>2020-05-05</th>\n",
              "      <td>1479.000000</td>\n",
              "      <td>1447.199951</td>\n",
              "      <td>1453.699951</td>\n",
              "      <td>1460.650024</td>\n",
              "      <td>20528490.0</td>\n",
              "      <td>1460.650024</td>\n",
              "    </tr>\n",
              "    <tr>\n",
              "      <th>2020-05-06</th>\n",
              "      <td>1484.949951</td>\n",
              "      <td>1445.500000</td>\n",
              "      <td>1464.000000</td>\n",
              "      <td>1460.750000</td>\n",
              "      <td>18510252.0</td>\n",
              "      <td>1460.750000</td>\n",
              "    </tr>\n",
              "    <tr>\n",
              "      <th>2020-05-07</th>\n",
              "      <td>1513.650024</td>\n",
              "      <td>1445.000000</td>\n",
              "      <td>1455.000000</td>\n",
              "      <td>1506.949951</td>\n",
              "      <td>22870646.0</td>\n",
              "      <td>1506.949951</td>\n",
              "    </tr>\n",
              "    <tr>\n",
              "      <th>2020-05-08</th>\n",
              "      <td>1579.900024</td>\n",
              "      <td>1537.099976</td>\n",
              "      <td>1545.000000</td>\n",
              "      <td>1561.800049</td>\n",
              "      <td>38516131.0</td>\n",
              "      <td>1561.800049</td>\n",
              "    </tr>\n",
              "  </tbody>\n",
              "</table>\n",
              "<p>2051 rows × 6 columns</p>\n",
              "</div>"
            ],
            "text/plain": [
              "                   High          Low  ...      Volume    Adj Close\n",
              "Date                                  ...                         \n",
              "2012-01-02   354.875000   343.575012  ...   8598434.0   308.614227\n",
              "2012-01-03   363.450012   355.174988  ...   9366982.0   316.520142\n",
              "2012-01-04   365.475006   356.674988  ...   8476734.0   312.807434\n",
              "2012-01-05   362.475006   347.049988  ...  13239172.0   305.534882\n",
              "2012-01-06   362.000000   348.325012  ...   9406294.0   313.418945\n",
              "...                 ...          ...  ...         ...          ...\n",
              "2020-05-04  1465.000000  1417.449951  ...  24438682.0  1435.199951\n",
              "2020-05-05  1479.000000  1447.199951  ...  20528490.0  1460.650024\n",
              "2020-05-06  1484.949951  1445.500000  ...  18510252.0  1460.750000\n",
              "2020-05-07  1513.650024  1445.000000  ...  22870646.0  1506.949951\n",
              "2020-05-08  1579.900024  1537.099976  ...  38516131.0  1561.800049\n",
              "\n",
              "[2051 rows x 6 columns]"
            ]
          },
          "metadata": {
            "tags": []
          },
          "execution_count": 59
        }
      ]
    },
    {
      "cell_type": "code",
      "metadata": {
        "id": "_Bx-jrSRK2-k",
        "colab_type": "code",
        "colab": {
          "base_uri": "https://localhost:8080/",
          "height": 34
        },
        "outputId": "c132733e-0643-4dbf-b924-23cf66568964"
      },
      "source": [
        "df.shape\n"
      ],
      "execution_count": 60,
      "outputs": [
        {
          "output_type": "execute_result",
          "data": {
            "text/plain": [
              "(2051, 6)"
            ]
          },
          "metadata": {
            "tags": []
          },
          "execution_count": 60
        }
      ]
    },
    {
      "cell_type": "code",
      "metadata": {
        "id": "VWXbCWaLK7fo",
        "colab_type": "code",
        "colab": {
          "base_uri": "https://localhost:8080/",
          "height": 559
        },
        "outputId": "5b7a6adf-3cff-42a3-c020-078e3cb7b7b2"
      },
      "source": [
        "plt.figure(figsize=(16,8))\n",
        "plt.title('Close Price History')\n",
        "plt.plot(df['Close'])\n",
        "plt.xlabel('Data', fontsize=20)\n",
        "plt.ylabel('Close Prise (Rupees)', fontsize=20)\n",
        "plt.show()"
      ],
      "execution_count": 61,
      "outputs": [
        {
          "output_type": "display_data",
          "data": {
            "image/png": "[encoded data removed]",
            "text/plain": [
              "<Figure size 1152x576 with 1 Axes>"
            ]
          },
          "metadata": {
            "tags": []
          }
        }
      ]
    },
    {
      "cell_type": "code",
      "metadata": {
        "id": "LjCpoSrKNIZl",
        "colab_type": "code",
        "colab": {
          "base_uri": "https://localhost:8080/",
          "height": 34
        },
        "outputId": "f8bc23da-0c1a-429a-d096-a91efb2bc0d2"
      },
      "source": [
        "data = df.filter(['Close'])\n",
        "dataset = data.values\n",
        "training_data_len = math.ceil(len(dataset)* .8)\n",
        "training_data_len\n"
      ],
      "execution_count": 62,
      "outputs": [
        {
          "output_type": "execute_result",
          "data": {
            "text/plain": [
              "1641"
            ]
          },
          "metadata": {
            "tags": []
          },
          "execution_count": 62
        }
      ]
    },
    {
      "cell_type": "code",
      "metadata": {
        "id": "J2cU0xNLNusQ",
        "colab_type": "code",
        "colab": {
          "base_uri": "https://localhost:8080/",
          "height": 136
        },
        "outputId": "63bfe964-f451-46fb-faeb-31639baf9a68"
      },
      "source": [
        "scaler = MinMaxScaler(feature_range=(0,1))\n",
        "scaled_data = scaler.fit_transform(dataset)\n",
        "scaled_data\n"
      ],
      "execution_count": 63,
      "outputs": [
        {
          "output_type": "execute_result",
          "data": {
            "text/plain": [
              "array([[0.01197029],\n",
              "       [0.01908564],\n",
              "       [0.01574418],\n",
              "       ...,\n",
              "       [0.88269522],\n",
              "       [0.91901879],\n",
              "       [0.96214333]])"
            ]
          },
          "metadata": {
            "tags": []
          },
          "execution_count": 63
        }
      ]
    },
    {
      "cell_type": "code",
      "metadata": {
        "id": "7KOV-EDNO_XZ",
        "colab_type": "code",
        "colab": {
          "base_uri": "https://localhost:8080/",
          "height": 646
        },
        "outputId": "52ca930f-c5f7-483a-e207-c92e7e0be834"
      },
      "source": [
        "#Create Training dataset\n",
        "train_data = scaled_data[0:training_data_len , :]\n",
        "x_train = []\n",
        "y_train = []\n",
        "\n",
        "for i in range (60, len(train_data)):\n",
        "  x_train.append(train_data[i-60:i, 0])\n",
        "  y_train.append(train_data[i, 0])\n",
        "  if i<=61:\n",
        "    print(x_train)\n",
        "    print(y_train)\n"
      ],
      "execution_count": 64,
      "outputs": [
        {
          "output_type": "stream",
          "text": [
            "[array([0.01197029, 0.01908564, 0.01574418, 0.00919885, 0.01629453,\n",
            "       0.01185236, 0.02362609, 0.02836309, 0.02390127, 0.02189638,\n",
            "       0.01448622, 0.02592579, 0.04074614, 0.04306551, 0.0458173 ,\n",
            "       0.03752261, 0.04231859, 0.04514901, 0.05672618, 0.04664283,\n",
            "       0.05542889, 0.06097179, 0.06020522, 0.06376288, 0.06167939,\n",
            "       0.06621984, 0.07166446, 0.06987578, 0.06570879, 0.06806747,\n",
            "       0.06792989, 0.06311426, 0.05360093, 0.05586133, 0.06582672,\n",
            "       0.06183664, 0.06427392, 0.05654927, 0.04141443, 0.04733078,\n",
            "       0.05686376, 0.05301126, 0.05424955, 0.04772389, 0.03948817,\n",
            "       0.03368976, 0.03840711, 0.04813665, 0.05654927, 0.0544068 ,\n",
            "       0.04738975, 0.0378371 , 0.0310559 , 0.03319837, 0.03614672,\n",
            "       0.02368504, 0.02671201, 0.02122808, 0.02160155, 0.0194984 ])]\n",
            "[0.0190856396831508]\n",
            "[array([0.01197029, 0.01908564, 0.01574418, 0.00919885, 0.01629453,\n",
            "       0.01185236, 0.02362609, 0.02836309, 0.02390127, 0.02189638,\n",
            "       0.01448622, 0.02592579, 0.04074614, 0.04306551, 0.0458173 ,\n",
            "       0.03752261, 0.04231859, 0.04514901, 0.05672618, 0.04664283,\n",
            "       0.05542889, 0.06097179, 0.06020522, 0.06376288, 0.06167939,\n",
            "       0.06621984, 0.07166446, 0.06987578, 0.06570879, 0.06806747,\n",
            "       0.06792989, 0.06311426, 0.05360093, 0.05586133, 0.06582672,\n",
            "       0.06183664, 0.06427392, 0.05654927, 0.04141443, 0.04733078,\n",
            "       0.05686376, 0.05301126, 0.05424955, 0.04772389, 0.03948817,\n",
            "       0.03368976, 0.03840711, 0.04813665, 0.05654927, 0.0544068 ,\n",
            "       0.04738975, 0.0378371 , 0.0310559 , 0.03319837, 0.03614672,\n",
            "       0.02368504, 0.02671201, 0.02122808, 0.02160155, 0.0194984 ]), array([0.01908564, 0.01574418, 0.00919885, 0.01629453, 0.01185236,\n",
            "       0.02362609, 0.02836309, 0.02390127, 0.02189638, 0.01448622,\n",
            "       0.02592579, 0.04074614, 0.04306551, 0.0458173 , 0.03752261,\n",
            "       0.04231859, 0.04514901, 0.05672618, 0.04664283, 0.05542889,\n",
            "       0.06097179, 0.06020522, 0.06376288, 0.06167939, 0.06621984,\n",
            "       0.07166446, 0.06987578, 0.06570879, 0.06806747, 0.06792989,\n",
            "       0.06311426, 0.05360093, 0.05586133, 0.06582672, 0.06183664,\n",
            "       0.06427392, 0.05654927, 0.04141443, 0.04733078, 0.05686376,\n",
            "       0.05301126, 0.05424955, 0.04772389, 0.03948817, 0.03368976,\n",
            "       0.03840711, 0.04813665, 0.05654927, 0.0544068 , 0.04738975,\n",
            "       0.0378371 , 0.0310559 , 0.03319837, 0.03614672, 0.02368504,\n",
            "       0.02671201, 0.02122808, 0.02160155, 0.0194984 , 0.01908564])]\n",
            "[0.0190856396831508, 0.029286894466953428]\n"
          ],
          "name": "stdout"
        }
      ]
    },
    {
      "cell_type": "code",
      "metadata": {
        "id": "yP04nPZyOGYT",
        "colab_type": "code",
        "colab": {}
      },
      "source": [
        "#Convert x_train and y_train to numpy arrays\n",
        "x_train, y_train = np.array(x_train), np.array(y_train)\n"
      ],
      "execution_count": 0,
      "outputs": []
    },
    {
      "cell_type": "code",
      "metadata": {
        "id": "t2mUZ6v-Nwtl",
        "colab_type": "code",
        "colab": {
          "base_uri": "https://localhost:8080/",
          "height": 34
        },
        "outputId": "8ca0f588-ee10-428b-b9e2-134e2bd21766"
      },
      "source": [
        "#Reshape the data\n",
        "x_train = np.reshape(x_train, (x_train.shape[0],x_train.shape[1], 1))\n",
        "x_train.shape"
      ],
      "execution_count": 66,
      "outputs": [
        {
          "output_type": "execute_result",
          "data": {
            "text/plain": [
              "(1581, 60, 1)"
            ]
          },
          "metadata": {
            "tags": []
          },
          "execution_count": 66
        }
      ]
    },
    {
      "cell_type": "code",
      "metadata": {
        "id": "JysHo2cwRZFy",
        "colab_type": "code",
        "colab": {}
      },
      "source": [
        "model = Sequential()\n",
        "model.add(LSTM(50, return_sequences=True, input_shape= (x_train.shape[1], 1)))\n",
        "model.add(LSTM(50, return_sequences=False))\n",
        "model.add(Dense(25))\n",
        "model.add(Dense(1))\n",
        "\n"
      ],
      "execution_count": 0,
      "outputs": []
    },
    {
      "cell_type": "code",
      "metadata": {
        "id": "7Yd0fsMtSVvn",
        "colab_type": "code",
        "colab": {}
      },
      "source": [
        "#compile the model\n",
        "model.compile(optimizer='adam', loss='mean_squared_error')"
      ],
      "execution_count": 0,
      "outputs": []
    },
    {
      "cell_type": "code",
      "metadata": {
        "id": "rxxkHRzpSiek",
        "colab_type": "code",
        "colab": {
          "base_uri": "https://localhost:8080/",
          "height": 68
        },
        "outputId": "6b5b1206-3ea1-4d3e-f6ae-57e98dd3c98e"
      },
      "source": [
        "#Train the model\n",
        "model.fit(x_train, y_train, batch_size=1, epochs=1)"
      ],
      "execution_count": 69,
      "outputs": [
        {
          "output_type": "stream",
          "text": [
            "Epoch 1/1\n",
            "1581/1581 [==============================] - 62s 39ms/step - loss: 9.8608e-04\n"
          ],
          "name": "stdout"
        },
        {
          "output_type": "execute_result",
          "data": {
            "text/plain": [
              "<keras.callbacks.callbacks.History at 0x7f9f85cebe48>"
            ]
          },
          "metadata": {
            "tags": []
          },
          "execution_count": 69
        }
      ]
    },
    {
      "cell_type": "code",
      "metadata": {
        "id": "rKoKhNQMTTR7",
        "colab_type": "code",
        "colab": {}
      },
      "source": [
        "test_data = scaled_data[training_data_len - 60: , :]\n",
        "x_test = []\n",
        "y_test = dataset[training_data_len:, :]\n",
        "for i in range(60, len(test_data)):\n",
        "  x_test.append(test_data[i-60:i, 0])"
      ],
      "execution_count": 0,
      "outputs": []
    },
    {
      "cell_type": "code",
      "metadata": {
        "id": "IDixD899UIP9",
        "colab_type": "code",
        "colab": {}
      },
      "source": [
        "#convert the data to a numpy array\n",
        "\n",
        "x_test = np.array(x_test)"
      ],
      "execution_count": 0,
      "outputs": []
    },
    {
      "cell_type": "code",
      "metadata": {
        "id": "0NWswfdOUTgE",
        "colab_type": "code",
        "colab": {}
      },
      "source": [
        "#reshape the data\n",
        "x_test = np.reshape(x_test, (x_test.shape[0], x_test.shape[1], 1))"
      ],
      "execution_count": 0,
      "outputs": []
    },
    {
      "cell_type": "code",
      "metadata": {
        "id": "u0yviUfZUrkV",
        "colab_type": "code",
        "colab": {
          "base_uri": "https://localhost:8080/",
          "height": 1000
        },
        "outputId": "c6e1f75f-bbff-45f1-ad6e-545885f1d787"
      },
      "source": [
        "#get the models predicted price of values\n",
        "predictions = model.predict(x_test)\n",
        "predictions = scaler.inverse_transform(predictions)\n",
        "predictions"
      ],
      "execution_count": 73,
      "outputs": [
        {
          "output_type": "execute_result",
          "data": {
            "text/plain": [
              "array([[1255.4131 ],\n",
              "       [1266.9098 ],\n",
              "       [1274.1388 ],\n",
              "       [1275.1556 ],\n",
              "       [1271.5212 ],\n",
              "       [1266.8829 ],\n",
              "       [1260.5077 ],\n",
              "       [1257.2609 ],\n",
              "       [1257.5499 ],\n",
              "       [1257.5173 ],\n",
              "       [1255.7258 ],\n",
              "       [1254.6726 ],\n",
              "       [1254.0612 ],\n",
              "       [1251.0707 ],\n",
              "       [1246.3322 ],\n",
              "       [1240.422  ],\n",
              "       [1235.067  ],\n",
              "       [1231.8849 ],\n",
              "       [1229.9939 ],\n",
              "       [1231.0934 ],\n",
              "       [1233.8901 ],\n",
              "       [1237.8241 ],\n",
              "       [1239.4335 ],\n",
              "       [1237.1326 ],\n",
              "       [1224.8092 ],\n",
              "       [1201.2428 ],\n",
              "       [1179.6775 ],\n",
              "       [1158.7777 ],\n",
              "       [1141.4907 ],\n",
              "       [1126.3673 ],\n",
              "       [1117.7014 ],\n",
              "       [1114.5441 ],\n",
              "       [1117.112  ],\n",
              "       [1121.3804 ],\n",
              "       [1121.4589 ],\n",
              "       [1115.6365 ],\n",
              "       [1106.3218 ],\n",
              "       [1094.9384 ],\n",
              "       [1081.9653 ],\n",
              "       [1070.6636 ],\n",
              "       [1065.3586 ],\n",
              "       [1060.7974 ],\n",
              "       [1057.6904 ],\n",
              "       [1055.1628 ],\n",
              "       [1054.9904 ],\n",
              "       [1057.5441 ],\n",
              "       [1062.6847 ],\n",
              "       [1069.4202 ],\n",
              "       [1074.7737 ],\n",
              "       [1077.6426 ],\n",
              "       [1080.744  ],\n",
              "       [1083.4231 ],\n",
              "       [1085.535  ],\n",
              "       [1090.0939 ],\n",
              "       [1097.6742 ],\n",
              "       [1105.0021 ],\n",
              "       [1109.2584 ],\n",
              "       [1110.5299 ],\n",
              "       [1110.6715 ],\n",
              "       [1111.884  ],\n",
              "       [1115.8805 ],\n",
              "       [1122.5493 ],\n",
              "       [1130.0123 ],\n",
              "       [1136.217  ],\n",
              "       [1140.8102 ],\n",
              "       [1144.3563 ],\n",
              "       [1143.8914 ],\n",
              "       [1142.3568 ],\n",
              "       [1136.0253 ],\n",
              "       [1128.5043 ],\n",
              "       [1122.1521 ],\n",
              "       [1116.6395 ],\n",
              "       [1112.6511 ],\n",
              "       [1111.5897 ],\n",
              "       [1112.8406 ],\n",
              "       [1115.3265 ],\n",
              "       [1117.4916 ],\n",
              "       [1116.5797 ],\n",
              "       [1113.0602 ],\n",
              "       [1109.273  ],\n",
              "       [1107.7076 ],\n",
              "       [1107.957  ],\n",
              "       [1108.8083 ],\n",
              "       [1109.9442 ],\n",
              "       [1109.7238 ],\n",
              "       [1107.5017 ],\n",
              "       [1104.9585 ],\n",
              "       [1102.9924 ],\n",
              "       [1101.4911 ],\n",
              "       [1100.991  ],\n",
              "       [1100.7649 ],\n",
              "       [1099.8273 ],\n",
              "       [1098.4945 ],\n",
              "       [1100.2236 ],\n",
              "       [1103.9692 ],\n",
              "       [1108.3939 ],\n",
              "       [1117.677  ],\n",
              "       [1133.8258 ],\n",
              "       [1151.955  ],\n",
              "       [1168.7985 ],\n",
              "       [1185.5171 ],\n",
              "       [1200.357  ],\n",
              "       [1211.1864 ],\n",
              "       [1216.9982 ],\n",
              "       [1218.0663 ],\n",
              "       [1219.5121 ],\n",
              "       [1223.0712 ],\n",
              "       [1231.4608 ],\n",
              "       [1241.7007 ],\n",
              "       [1253.9993 ],\n",
              "       [1264.2883 ],\n",
              "       [1271.4158 ],\n",
              "       [1273.7487 ],\n",
              "       [1273.6128 ],\n",
              "       [1268.844  ],\n",
              "       [1264.1173 ],\n",
              "       [1257.2623 ],\n",
              "       [1249.6353 ],\n",
              "       [1244.079  ],\n",
              "       [1241.3158 ],\n",
              "       [1238.9052 ],\n",
              "       [1237.0419 ],\n",
              "       [1234.4595 ],\n",
              "       [1232.0974 ],\n",
              "       [1230.772  ],\n",
              "       [1229.606  ],\n",
              "       [1229.8195 ],\n",
              "       [1233.3889 ],\n",
              "       [1238.9092 ],\n",
              "       [1244.7284 ],\n",
              "       [1253.8823 ],\n",
              "       [1266.5382 ],\n",
              "       [1281.4694 ],\n",
              "       [1295.6924 ],\n",
              "       [1306.3069 ],\n",
              "       [1316.8745 ],\n",
              "       [1328.8445 ],\n",
              "       [1340.2377 ],\n",
              "       [1346.9603 ],\n",
              "       [1348.9852 ],\n",
              "       [1352.5388 ],\n",
              "       [1354.465  ],\n",
              "       [1356.5829 ],\n",
              "       [1361.7214 ],\n",
              "       [1367.6587 ],\n",
              "       [1372.1392 ],\n",
              "       [1373.3115 ],\n",
              "       [1372.7605 ],\n",
              "       [1368.7773 ],\n",
              "       [1363.9353 ],\n",
              "       [1358.6686 ],\n",
              "       [1355.212  ],\n",
              "       [1352.6078 ],\n",
              "       [1350.4935 ],\n",
              "       [1349.2416 ],\n",
              "       [1352.7769 ],\n",
              "       [1354.3085 ],\n",
              "       [1356.8063 ],\n",
              "       [1361.9896 ],\n",
              "       [1366.31   ],\n",
              "       [1371.9663 ],\n",
              "       [1377.6754 ],\n",
              "       [1384.1422 ],\n",
              "       [1390.7294 ],\n",
              "       [1394.3674 ],\n",
              "       [1392.071  ],\n",
              "       [1382.5425 ],\n",
              "       [1365.8027 ],\n",
              "       [1346.2527 ],\n",
              "       [1324.9478 ],\n",
              "       [1307.5326 ],\n",
              "       [1293.3082 ],\n",
              "       [1283.1    ],\n",
              "       [1276.252  ],\n",
              "       [1277.728  ],\n",
              "       [1284.7478 ],\n",
              "       [1294.3049 ],\n",
              "       [1303.8013 ],\n",
              "       [1312.7222 ],\n",
              "       [1317.8347 ],\n",
              "       [1321.8016 ],\n",
              "       [1323.5343 ],\n",
              "       [1325.5878 ],\n",
              "       [1327.5327 ],\n",
              "       [1332.2573 ],\n",
              "       [1337.0541 ],\n",
              "       [1339.151  ],\n",
              "       [1338.4833 ],\n",
              "       [1336.7966 ],\n",
              "       [1335.6208 ],\n",
              "       [1335.0641 ],\n",
              "       [1334.4196 ],\n",
              "       [1332.8732 ],\n",
              "       [1327.5242 ],\n",
              "       [1320.643  ],\n",
              "       [1313.1094 ],\n",
              "       [1307.8297 ],\n",
              "       [1302.4407 ],\n",
              "       [1295.9467 ],\n",
              "       [1292.8481 ],\n",
              "       [1291.5076 ],\n",
              "       [1289.3534 ],\n",
              "       [1285.0006 ],\n",
              "       [1281.4773 ],\n",
              "       [1279.5363 ],\n",
              "       [1279.0049 ],\n",
              "       [1279.4502 ],\n",
              "       [1278.3599 ],\n",
              "       [1275.5277 ],\n",
              "       [1274.7874 ],\n",
              "       [1274.9426 ],\n",
              "       [1275.899  ],\n",
              "       [1277.1062 ],\n",
              "       [1277.9209 ],\n",
              "       [1280.1414 ],\n",
              "       [1281.719  ],\n",
              "       [1280.9064 ],\n",
              "       [1277.6715 ],\n",
              "       [1276.5336 ],\n",
              "       [1275.7433 ],\n",
              "       [1273.8827 ],\n",
              "       [1268.9626 ],\n",
              "       [1261.1846 ],\n",
              "       [1252.288  ],\n",
              "       [1240.5829 ],\n",
              "       [1227.1005 ],\n",
              "       [1215.2593 ],\n",
              "       [1205.6986 ],\n",
              "       [1194.2693 ],\n",
              "       [1181.6178 ],\n",
              "       [1167.6061 ],\n",
              "       [1158.3394 ],\n",
              "       [1153.2526 ],\n",
              "       [1161.9941 ],\n",
              "       [1178.5176 ],\n",
              "       [1197.0365 ],\n",
              "       [1216.5485 ],\n",
              "       [1233.0801 ],\n",
              "       [1246.0068 ],\n",
              "       [1253.3021 ],\n",
              "       [1259.7478 ],\n",
              "       [1263.987  ],\n",
              "       [1267.4878 ],\n",
              "       [1269.0646 ],\n",
              "       [1267.3856 ],\n",
              "       [1264.8424 ],\n",
              "       [1257.8086 ],\n",
              "       [1248.6615 ],\n",
              "       [1238.8834 ],\n",
              "       [1231.992  ],\n",
              "       [1227.1765 ],\n",
              "       [1225.2258 ],\n",
              "       [1222.6484 ],\n",
              "       [1221.6309 ],\n",
              "       [1219.9952 ],\n",
              "       [1216.9517 ],\n",
              "       [1214.2557 ],\n",
              "       [1209.2979 ],\n",
              "       [1211.0734 ],\n",
              "       [1214.5005 ],\n",
              "       [1222.6405 ],\n",
              "       [1232.5525 ],\n",
              "       [1244.3193 ],\n",
              "       [1257.172  ],\n",
              "       [1271.7029 ],\n",
              "       [1282.9989 ],\n",
              "       [1292.2654 ],\n",
              "       [1299.164  ],\n",
              "       [1304.3109 ],\n",
              "       [1309.4387 ],\n",
              "       [1317.7755 ],\n",
              "       [1325.9099 ],\n",
              "       [1333.8816 ],\n",
              "       [1341.6212 ],\n",
              "       [1349.3104 ],\n",
              "       [1358.6364 ],\n",
              "       [1369.8528 ],\n",
              "       [1380.7797 ],\n",
              "       [1388.4288 ],\n",
              "       [1398.1378 ],\n",
              "       [1407.1969 ],\n",
              "       [1418.7709 ],\n",
              "       [1431.6238 ],\n",
              "       [1442.4946 ],\n",
              "       [1450.6716 ],\n",
              "       [1456.7131 ],\n",
              "       [1459.9349 ],\n",
              "       [1460.1222 ],\n",
              "       [1461.0768 ],\n",
              "       [1460.8286 ],\n",
              "       [1458.3131 ],\n",
              "       [1459.3998 ],\n",
              "       [1461.0297 ],\n",
              "       [1463.7983 ],\n",
              "       [1465.7192 ],\n",
              "       [1472.2118 ],\n",
              "       [1484.0288 ],\n",
              "       [1496.4658 ],\n",
              "       [1509.1831 ],\n",
              "       [1522.3232 ],\n",
              "       [1534.2167 ],\n",
              "       [1545.3154 ],\n",
              "       [1555.9049 ],\n",
              "       [1562.1848 ],\n",
              "       [1569.3704 ],\n",
              "       [1575.2273 ],\n",
              "       [1577.2762 ],\n",
              "       [1577.0958 ],\n",
              "       [1576.0775 ],\n",
              "       [1576.4304 ],\n",
              "       [1576.2725 ],\n",
              "       [1576.0471 ],\n",
              "       [1576.3922 ],\n",
              "       [1578.4641 ],\n",
              "       [1579.5242 ],\n",
              "       [1579.7289 ],\n",
              "       [1580.7919 ],\n",
              "       [1585.5474 ],\n",
              "       [1590.4967 ],\n",
              "       [1592.4695 ],\n",
              "       [1590.355  ],\n",
              "       [1583.2098 ],\n",
              "       [1576.8971 ],\n",
              "       [1571.4651 ],\n",
              "       [1563.9888 ],\n",
              "       [1555.9393 ],\n",
              "       [1550.9153 ],\n",
              "       [1547.9618 ],\n",
              "       [1542.8615 ],\n",
              "       [1539.7415 ],\n",
              "       [1536.5695 ],\n",
              "       [1537.3201 ],\n",
              "       [1539.8033 ],\n",
              "       [1542.6873 ],\n",
              "       [1544.1322 ],\n",
              "       [1544.2075 ],\n",
              "       [1544.9482 ],\n",
              "       [1550.1907 ],\n",
              "       [1552.1292 ],\n",
              "       [1552.7635 ],\n",
              "       [1552.4718 ],\n",
              "       [1551.015  ],\n",
              "       [1548.5594 ],\n",
              "       [1544.2928 ],\n",
              "       [1536.0234 ],\n",
              "       [1527.4076 ],\n",
              "       [1515.5936 ],\n",
              "       [1500.1832 ],\n",
              "       [1481.78   ],\n",
              "       [1467.6705 ],\n",
              "       [1459.0461 ],\n",
              "       [1455.0931 ],\n",
              "       [1451.6807 ],\n",
              "       [1449.334  ],\n",
              "       [1449.468  ],\n",
              "       [1452.5747 ],\n",
              "       [1457.3086 ],\n",
              "       [1463.8647 ],\n",
              "       [1469.7793 ],\n",
              "       [1473.7919 ],\n",
              "       [1480.113  ],\n",
              "       [1484.9783 ],\n",
              "       [1484.6538 ],\n",
              "       [1478.9283 ],\n",
              "       [1468.4225 ],\n",
              "       [1455.7642 ],\n",
              "       [1437.2611 ],\n",
              "       [1416.4075 ],\n",
              "       [1398.8169 ],\n",
              "       [1384.083  ],\n",
              "       [1369.5239 ],\n",
              "       [1352.6405 ],\n",
              "       [1320.6957 ],\n",
              "       [1288.2043 ],\n",
              "       [1248.8336 ],\n",
              "       [1213.8918 ],\n",
              "       [1175.4354 ],\n",
              "       [1138.3188 ],\n",
              "       [1101.4121 ],\n",
              "       [1063.2509 ],\n",
              "       [1037.5239 ],\n",
              "       [1007.85535],\n",
              "       [ 984.9113 ],\n",
              "       [ 980.5412 ],\n",
              "       [ 985.0947 ],\n",
              "       [ 994.49164],\n",
              "       [1002.43994],\n",
              "       [1016.8723 ],\n",
              "       [1030.0651 ],\n",
              "       [1041.241  ],\n",
              "       [1062.5931 ],\n",
              "       [1085.8737 ],\n",
              "       [1111.0541 ],\n",
              "       [1131.9114 ],\n",
              "       [1144.767  ],\n",
              "       [1153.8505 ],\n",
              "       [1165.2649 ],\n",
              "       [1178.6115 ],\n",
              "       [1191.2012 ],\n",
              "       [1214.769  ],\n",
              "       [1242.4196 ],\n",
              "       [1274.5889 ],\n",
              "       [1307.4081 ],\n",
              "       [1337.4099 ],\n",
              "       [1362.9828 ],\n",
              "       [1387.6292 ],\n",
              "       [1406.0792 ],\n",
              "       [1422.2186 ],\n",
              "       [1435.3555 ],\n",
              "       [1450.3033 ]], dtype=float32)"
            ]
          },
          "metadata": {
            "tags": []
          },
          "execution_count": 73
        }
      ]
    },
    {
      "cell_type": "code",
      "metadata": {
        "id": "6wP5EMipVFog",
        "colab_type": "code",
        "colab": {
          "base_uri": "https://localhost:8080/",
          "height": 34
        },
        "outputId": "a68ab7fd-5464-4366-82c0-4232e812573f"
      },
      "source": [
        "#Get the rms error(RMSE)\n",
        "rmse = np.sqrt(np.mean(predictions - y_test)**2)\n",
        "rmse"
      ],
      "execution_count": 74,
      "outputs": [
        {
          "output_type": "execute_result",
          "data": {
            "text/plain": [
              "0.06235455768864329"
            ]
          },
          "metadata": {
            "tags": []
          },
          "execution_count": 74
        }
      ]
    },
    {
      "cell_type": "code",
      "metadata": {
        "id": "9yzckDVcVqq-",
        "colab_type": "code",
        "colab": {
          "base_uri": "https://localhost:8080/",
          "height": 652
        },
        "outputId": "43017653-1385-40d3-88f6-5a0fd97725c3"
      },
      "source": [
        "#plot the data\n",
        "train = data[:training_data_len]\n",
        "valid = data[training_data_len:]\n",
        "valid['Predictions'] = predictions\n",
        "#visualise the data\n",
        "plt.figure(figsize=(16,8))\n",
        "plt.title('model')\n",
        "plt.xlabel('Data',fontsize=10)\n",
        "plt.ylabel('Close Price', fontsize=18)\n",
        "plt.plot(train['Close'])\n",
        "plt.plot(valid[['Close', 'Predictions']])\n",
        "plt.legend(['Train', 'Val', 'Prediction'], loc='lower right')\n",
        "plt.show()\n"
      ],
      "execution_count": 75,
      "outputs": [
        {
          "output_type": "stream",
          "text": [
            "/usr/local/lib/python3.6/dist-packages/ipykernel_launcher.py:3: SettingWithCopyWarning: \n",
            "A value is trying to be set on a copy of a slice from a DataFrame.\n",
            "Try using .loc[row_indexer,col_indexer] = value instead\n",
            "\n",
            "See the caveats in the documentation: https://pandas.pydata.org/pandas-docs/stable/user_guide/indexing.html#returning-a-view-versus-a-copy\n",
            "  This is separate from the ipykernel package so we can avoid doing imports until\n"
          ],
          "name": "stderr"
        },
        {
          "output_type": "display_data",
          "data": {
            "image/png": "[encoded data removed]",
            "text/plain": [
              "<Figure size 1152x576 with 1 Axes>"
            ]
          },
          "metadata": {
            "tags": []
          }
        }
      ]
    },
    {
      "cell_type": "code",
      "metadata": {
        "id": "f3Cy_q9vXZsd",
        "colab_type": "code",
        "colab": {
          "base_uri": "https://localhost:8080/",
          "height": 450
        },
        "outputId": "883b64c2-d056-4487-a4bc-7b273f980e9a"
      },
      "source": [
        "#Show the valid and predicted price\n",
        "valid"
      ],
      "execution_count": 76,
      "outputs": [
        {
          "output_type": "execute_result",
          "data": {
            "text/html": [
              "<div>\n",
              "<style scoped>\n",
              "    .dataframe tbody tr th:only-of-type {\n",
              "        vertical-align: middle;\n",
              "    }\n",
              "\n",
              "    .dataframe tbody tr th {\n",
              "        vertical-align: top;\n",
              "    }\n",
              "\n",
              "    .dataframe thead th {\n",
              "        text-align: right;\n",
              "    }\n",
              "</style>\n",
              "<table border=\"1\" class=\"dataframe\">\n",
              "  <thead>\n",
              "    <tr style=\"text-align: right;\">\n",
              "      <th></th>\n",
              "      <th>Close</th>\n",
              "      <th>Predictions</th>\n",
              "    </tr>\n",
              "    <tr>\n",
              "      <th>Date</th>\n",
              "      <th></th>\n",
              "      <th></th>\n",
              "    </tr>\n",
              "  </thead>\n",
              "  <tbody>\n",
              "    <tr>\n",
              "      <th>2018-08-29</th>\n",
              "      <td>1294.199951</td>\n",
              "      <td>1255.413086</td>\n",
              "    </tr>\n",
              "    <tr>\n",
              "      <th>2018-08-30</th>\n",
              "      <td>1274.449951</td>\n",
              "      <td>1266.909790</td>\n",
              "    </tr>\n",
              "    <tr>\n",
              "      <th>2018-08-31</th>\n",
              "      <td>1241.650024</td>\n",
              "      <td>1274.138794</td>\n",
              "    </tr>\n",
              "    <tr>\n",
              "      <th>2018-09-03</th>\n",
              "      <td>1229.150024</td>\n",
              "      <td>1275.155640</td>\n",
              "    </tr>\n",
              "    <tr>\n",
              "      <th>2018-09-04</th>\n",
              "      <td>1241.949951</td>\n",
              "      <td>1271.521240</td>\n",
              "    </tr>\n",
              "    <tr>\n",
              "      <th>...</th>\n",
              "      <td>...</td>\n",
              "      <td>...</td>\n",
              "    </tr>\n",
              "    <tr>\n",
              "      <th>2020-05-04</th>\n",
              "      <td>1435.199951</td>\n",
              "      <td>1387.629150</td>\n",
              "    </tr>\n",
              "    <tr>\n",
              "      <th>2020-05-05</th>\n",
              "      <td>1460.650024</td>\n",
              "      <td>1406.079224</td>\n",
              "    </tr>\n",
              "    <tr>\n",
              "      <th>2020-05-06</th>\n",
              "      <td>1460.750000</td>\n",
              "      <td>1422.218628</td>\n",
              "    </tr>\n",
              "    <tr>\n",
              "      <th>2020-05-07</th>\n",
              "      <td>1506.949951</td>\n",
              "      <td>1435.355469</td>\n",
              "    </tr>\n",
              "    <tr>\n",
              "      <th>2020-05-08</th>\n",
              "      <td>1561.800049</td>\n",
              "      <td>1450.303345</td>\n",
              "    </tr>\n",
              "  </tbody>\n",
              "</table>\n",
              "<p>410 rows × 2 columns</p>\n",
              "</div>"
            ],
            "text/plain": [
              "                  Close  Predictions\n",
              "Date                                \n",
              "2018-08-29  1294.199951  1255.413086\n",
              "2018-08-30  1274.449951  1266.909790\n",
              "2018-08-31  1241.650024  1274.138794\n",
              "2018-09-03  1229.150024  1275.155640\n",
              "2018-09-04  1241.949951  1271.521240\n",
              "...                 ...          ...\n",
              "2020-05-04  1435.199951  1387.629150\n",
              "2020-05-05  1460.650024  1406.079224\n",
              "2020-05-06  1460.750000  1422.218628\n",
              "2020-05-07  1506.949951  1435.355469\n",
              "2020-05-08  1561.800049  1450.303345\n",
              "\n",
              "[410 rows x 2 columns]"
            ]
          },
          "metadata": {
            "tags": []
          },
          "execution_count": 76
        }
      ]
    },
    {
      "cell_type": "code",
      "metadata": {
        "id": "arRPKi31Xoyp",
        "colab_type": "code",
        "colab": {
          "base_uri": "https://localhost:8080/",
          "height": 34
        },
        "outputId": "76086be6-653d-400e-85fb-1eeef2984491"
      },
      "source": [
        "#Get the quote\n",
        "reliance_quote = web.DataReader('RELIANCE.NS', data_source='yahoo', start='2012-01-01', end='2020-05-08')\n",
        "new_df = reliance_quote.filter(['Close'])\n",
        "last_60_days = new_df[-60:].values\n",
        "last_60_days_scaled = scaler.transform(last_60_days)\n",
        "X_test = []\n",
        "X_test.append(last_60_days_scaled)\n",
        "X_test= np.array(X_test)\n",
        "X_test = np.reshape(X_test, (X_test.shape[0], X_test.shape[1], 1))\n",
        "pred_price = model.predict(X_test)\n",
        "pred_price = scaler.inverse_transform(pred_price)\n",
        "print(pred_price)"
      ],
      "execution_count": 77,
      "outputs": [
        {
          "output_type": "stream",
          "text": [
            "[[1470.0643]]\n"
          ],
          "name": "stdout"
        }
      ]
    }
  ]
}