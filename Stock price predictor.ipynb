{
  "nbformat": 4,
  "nbformat_minor": 0,
  "metadata": {
    "colab": {
      "name": "Untitled0.ipynb",
      "provenance": [],
      "collapsed_sections": [],
      "authorship_tag": "ABX9TyN6Ha301UHAK2UEzLkQGIpB",
      "include_colab_link": true
    },
    "kernelspec": {
      "name": "python3",
      "display_name": "Python 3"
    }
  },
  "cells": [
    {
      "cell_type": "markdown",
      "metadata": {
        "id": "view-in-github",
        "colab_type": "text"
      },
      "source": [
        "<a href=\"https://colab.research.google.com/github/garviit25/Colaboratory/blob/master/Stock%20price%20predictor.ipynb\" target=\"_parent\"><img src=\"https://colab.research.google.com/assets/colab-badge.svg\" alt=\"Open In Colab\"/></a>"
      ]
    },
    {
      "cell_type": "code",
      "metadata": {
        "id": "VT7Np4MhIrhL",
        "colab_type": "code",
        "colab": {
          "base_uri": "https://localhost:8080/",
          "height": 88
        },
        "outputId": "675ff179-1513-45ee-d60d-4f5ccbeece2d"
      },
      "source": [
        "import math\n",
        "import pandas_datareader as web\n",
        "import numpy as np\n",
        "import pandas as pd\n",
        "from sklearn.preprocessing import MinMaxScaler\n",
        "from keras.models import Sequential\n",
        "from keras.layers import Dense, LSTM\n",
        "import matplotlib.pyplot as plt\n",
        "plt.style.use('fivethirtyeight')"
      ],
      "execution_count": 1,
      "outputs": [
        {
          "output_type": "stream",
          "text": [
            "/usr/local/lib/python3.6/dist-packages/pandas_datareader/compat/__init__.py:7: FutureWarning: pandas.util.testing is deprecated. Use the functions in the public API at pandas.testing instead.\n",
            "  from pandas.util.testing import assert_frame_equal\n",
            "Using TensorFlow backend.\n"
          ],
          "name": "stderr"
        }
      ]
    },
    {
      "cell_type": "code",
      "metadata": {
        "id": "fgVHvNDVJGu0",
        "colab_type": "code",
        "colab": {
          "base_uri": "https://localhost:8080/",
          "height": 450
        },
        "outputId": "d99247c8-eedb-49ed-f11d-266cfdaf0a2a"
      },
      "source": [
        "df = web.DataReader('RELIANCE.NS', data_source='yahoo', start='2012-01-01', end='2020-05-08')\n",
        "df "
      ],
      "execution_count": 9,
      "outputs": [
        {
          "output_type": "execute_result",
          "data": {
            "text/html": [
              "<div>\n",
              "<style scoped>\n",
              "    .dataframe tbody tr th:only-of-type {\n",
              "        vertical-align: middle;\n",
              "    }\n",
              "\n",
              "    .dataframe tbody tr th {\n",
              "        vertical-align: top;\n",
              "    }\n",
              "\n",
              "    .dataframe thead th {\n",
              "        text-align: right;\n",
              "    }\n",
              "</style>\n",
              "<table border=\"1\" class=\"dataframe\">\n",
              "  <thead>\n",
              "    <tr style=\"text-align: right;\">\n",
              "      <th></th>\n",
              "      <th>High</th>\n",
              "      <th>Low</th>\n",
              "      <th>Open</th>\n",
              "      <th>Close</th>\n",
              "      <th>Volume</th>\n",
              "      <th>Adj Close</th>\n",
              "    </tr>\n",
              "    <tr>\n",
              "      <th>Date</th>\n",
              "      <th></th>\n",
              "      <th></th>\n",
              "      <th></th>\n",
              "      <th></th>\n",
              "      <th></th>\n",
              "      <th></th>\n",
              "    </tr>\n",
              "  </thead>\n",
              "  <tbody>\n",
              "    <tr>\n",
              "      <th>2012-01-02</th>\n",
              "      <td>354.875000</td>\n",
              "      <td>343.575012</td>\n",
              "      <td>348.399994</td>\n",
              "      <td>353.274994</td>\n",
              "      <td>8598434.0</td>\n",
              "      <td>308.614227</td>\n",
              "    </tr>\n",
              "    <tr>\n",
              "      <th>2012-01-03</th>\n",
              "      <td>363.450012</td>\n",
              "      <td>355.174988</td>\n",
              "      <td>356.125000</td>\n",
              "      <td>362.325012</td>\n",
              "      <td>9366982.0</td>\n",
              "      <td>316.520142</td>\n",
              "    </tr>\n",
              "    <tr>\n",
              "      <th>2012-01-04</th>\n",
              "      <td>365.475006</td>\n",
              "      <td>356.674988</td>\n",
              "      <td>363.700012</td>\n",
              "      <td>358.075012</td>\n",
              "      <td>8476734.0</td>\n",
              "      <td>312.807434</td>\n",
              "    </tr>\n",
              "    <tr>\n",
              "      <th>2012-01-05</th>\n",
              "      <td>362.475006</td>\n",
              "      <td>347.049988</td>\n",
              "      <td>357.500000</td>\n",
              "      <td>349.750000</td>\n",
              "      <td>13239172.0</td>\n",
              "      <td>305.534882</td>\n",
              "    </tr>\n",
              "    <tr>\n",
              "      <th>2012-01-06</th>\n",
              "      <td>362.000000</td>\n",
              "      <td>348.325012</td>\n",
              "      <td>348.524994</td>\n",
              "      <td>358.774994</td>\n",
              "      <td>9406294.0</td>\n",
              "      <td>313.418945</td>\n",
              "    </tr>\n",
              "    <tr>\n",
              "      <th>...</th>\n",
              "      <td>...</td>\n",
              "      <td>...</td>\n",
              "      <td>...</td>\n",
              "      <td>...</td>\n",
              "      <td>...</td>\n",
              "      <td>...</td>\n",
              "    </tr>\n",
              "    <tr>\n",
              "      <th>2020-04-30</th>\n",
              "      <td>1494.949951</td>\n",
              "      <td>1438.050049</td>\n",
              "      <td>1453.949951</td>\n",
              "      <td>1466.000000</td>\n",
              "      <td>32616945.0</td>\n",
              "      <td>1466.000000</td>\n",
              "    </tr>\n",
              "    <tr>\n",
              "      <th>2020-05-04</th>\n",
              "      <td>1465.000000</td>\n",
              "      <td>1417.449951</td>\n",
              "      <td>1440.000000</td>\n",
              "      <td>1435.199951</td>\n",
              "      <td>24438682.0</td>\n",
              "      <td>1435.199951</td>\n",
              "    </tr>\n",
              "    <tr>\n",
              "      <th>2020-05-05</th>\n",
              "      <td>1479.000000</td>\n",
              "      <td>1447.199951</td>\n",
              "      <td>1453.699951</td>\n",
              "      <td>1460.650024</td>\n",
              "      <td>20528490.0</td>\n",
              "      <td>1460.650024</td>\n",
              "    </tr>\n",
              "    <tr>\n",
              "      <th>2020-05-06</th>\n",
              "      <td>1484.949951</td>\n",
              "      <td>1445.500000</td>\n",
              "      <td>1464.000000</td>\n",
              "      <td>1460.750000</td>\n",
              "      <td>18510252.0</td>\n",
              "      <td>1460.750000</td>\n",
              "    </tr>\n",
              "    <tr>\n",
              "      <th>2020-05-07</th>\n",
              "      <td>1513.650024</td>\n",
              "      <td>1445.000000</td>\n",
              "      <td>1455.000000</td>\n",
              "      <td>1506.949951</td>\n",
              "      <td>22850184.0</td>\n",
              "      <td>1506.949951</td>\n",
              "    </tr>\n",
              "  </tbody>\n",
              "</table>\n",
              "<p>2050 rows × 6 columns</p>\n",
              "</div>"
            ],
            "text/plain": [
              "                   High          Low  ...      Volume    Adj Close\n",
              "Date                                  ...                         \n",
              "2012-01-02   354.875000   343.575012  ...   8598434.0   308.614227\n",
              "2012-01-03   363.450012   355.174988  ...   9366982.0   316.520142\n",
              "2012-01-04   365.475006   356.674988  ...   8476734.0   312.807434\n",
              "2012-01-05   362.475006   347.049988  ...  13239172.0   305.534882\n",
              "2012-01-06   362.000000   348.325012  ...   9406294.0   313.418945\n",
              "...                 ...          ...  ...         ...          ...\n",
              "2020-04-30  1494.949951  1438.050049  ...  32616945.0  1466.000000\n",
              "2020-05-04  1465.000000  1417.449951  ...  24438682.0  1435.199951\n",
              "2020-05-05  1479.000000  1447.199951  ...  20528490.0  1460.650024\n",
              "2020-05-06  1484.949951  1445.500000  ...  18510252.0  1460.750000\n",
              "2020-05-07  1513.650024  1445.000000  ...  22850184.0  1506.949951\n",
              "\n",
              "[2050 rows x 6 columns]"
            ]
          },
          "metadata": {
            "tags": []
          },
          "execution_count": 9
        }
      ]
    },
    {
      "cell_type": "code",
      "metadata": {
        "id": "_Bx-jrSRK2-k",
        "colab_type": "code",
        "colab": {
          "base_uri": "https://localhost:8080/",
          "height": 34
        },
        "outputId": "b8ff77e4-cf21-4e20-c2a6-050403febb79"
      },
      "source": [
        "df.shape\n"
      ],
      "execution_count": 10,
      "outputs": [
        {
          "output_type": "execute_result",
          "data": {
            "text/plain": [
              "(2050, 6)"
            ]
          },
          "metadata": {
            "tags": []
          },
          "execution_count": 10
        }
      ]
    },
    {
      "cell_type": "code",
      "metadata": {
        "id": "VWXbCWaLK7fo",
        "colab_type": "code",
        "colab": {
          "base_uri": "https://localhost:8080/",
          "height": 519
        },
        "outputId": "2b2df7a8-d134-4061-e4e3-2f70f08a6853"
      },
      "source": [
        "plt.figure(figsize=(16,8))\n",
        "plt.title('Close Price History')\n",
        "plt.plot(df['Close'])\n",
        "plt.xlabel('Data', fontsize=20)\n",
        "plt.ylabel('Close Prise (Rupees)', fontsize=20)\n",
        "plt.show()"
      ],
      "execution_count": 11,
      "outputs": [
        {
          "output_type": "display_data",
          "data": {
            "image/png": "[encoded data removed]",
            "text/plain": [
              "<Figure size 1152x576 with 1 Axes>"
            ]
          },
          "metadata": {
            "tags": [],
            "needs_background": "light"
          }
        }
      ]
    },
    {
      "cell_type": "code",
      "metadata": {
        "id": "LjCpoSrKNIZl",
        "colab_type": "code",
        "colab": {
          "base_uri": "https://localhost:8080/",
          "height": 34
        },
        "outputId": "de0ab0c6-89ef-4d6a-b15e-129117c5c35a"
      },
      "source": [
        "data = df.filter(['Close'])\n",
        "dataset = data.values\n",
        "training_data_len = math.ceil(len(dataset)* .8)\n",
        "training_data_len\n"
      ],
      "execution_count": 13,
      "outputs": [
        {
          "output_type": "execute_result",
          "data": {
            "text/plain": [
              "1640"
            ]
          },
          "metadata": {
            "tags": []
          },
          "execution_count": 13
        }
      ]
    },
    {
      "cell_type": "code",
      "metadata": {
        "id": "J2cU0xNLNusQ",
        "colab_type": "code",
        "colab": {
          "base_uri": "https://localhost:8080/",
          "height": 136
        },
        "outputId": "eccc435d-0408-48d5-cd3b-82019c65a775"
      },
      "source": [
        "scaler = MinMaxScaler(feature_range=(0,1))\n",
        "scaled_data = scaler.fit_transform(dataset)\n",
        "scaled_data\n"
      ],
      "execution_count": 16,
      "outputs": [
        {
          "output_type": "execute_result",
          "data": {
            "text/plain": [
              "array([[0.01197029],\n",
              "       [0.01908564],\n",
              "       [0.01574418],\n",
              "       ...,\n",
              "       [0.88261661],\n",
              "       [0.88269522],\n",
              "       [0.91901879]])"
            ]
          },
          "metadata": {
            "tags": []
          },
          "execution_count": 16
        }
      ]
    },
    {
      "cell_type": "code",
      "metadata": {
        "id": "7KOV-EDNO_XZ",
        "colab_type": "code",
        "colab": {
          "base_uri": "https://localhost:8080/",
          "height": 646
        },
        "outputId": "4cc684bd-6250-4894-fa55-7dd6dbae2541"
      },
      "source": [
        "#Create Training dataset\n",
        "train_data = scaled_data[0:training_data_len , :]\n",
        "x_train = []\n",
        "y_train = []\n",
        "\n",
        "for i in range (60, len(train_data)):\n",
        "  x_train.append(train_data[i-60:i, 0])\n",
        "  y_train.append(train_data[i, 0])\n",
        "  if i<=61:\n",
        "    print(x_train)\n",
        "    print(y_train)\n"
      ],
      "execution_count": 19,
      "outputs": [
        {
          "output_type": "stream",
          "text": [
            "[array([0.01197029, 0.01908564, 0.01574418, 0.00919885, 0.01629453,\n",
            "       0.01185236, 0.02362609, 0.02836309, 0.02390127, 0.02189638,\n",
            "       0.01448622, 0.02592579, 0.04074614, 0.04306551, 0.0458173 ,\n",
            "       0.03752261, 0.04231859, 0.04514901, 0.05672618, 0.04664283,\n",
            "       0.05542889, 0.06097179, 0.06020522, 0.06376288, 0.06167939,\n",
            "       0.06621984, 0.07166446, 0.06987578, 0.06570879, 0.06806747,\n",
            "       0.06792989, 0.06311426, 0.05360093, 0.05586133, 0.06582672,\n",
            "       0.06183664, 0.06427392, 0.05654927, 0.04141443, 0.04733078,\n",
            "       0.05686376, 0.05301126, 0.05424955, 0.04772389, 0.03948817,\n",
            "       0.03368976, 0.03840711, 0.04813665, 0.05654927, 0.0544068 ,\n",
            "       0.04738975, 0.0378371 , 0.0310559 , 0.03319837, 0.03614672,\n",
            "       0.02368504, 0.02671201, 0.02122808, 0.02160155, 0.0194984 ])]\n",
            "[0.0190856396831508]\n",
            "[array([0.01197029, 0.01908564, 0.01574418, 0.00919885, 0.01629453,\n",
            "       0.01185236, 0.02362609, 0.02836309, 0.02390127, 0.02189638,\n",
            "       0.01448622, 0.02592579, 0.04074614, 0.04306551, 0.0458173 ,\n",
            "       0.03752261, 0.04231859, 0.04514901, 0.05672618, 0.04664283,\n",
            "       0.05542889, 0.06097179, 0.06020522, 0.06376288, 0.06167939,\n",
            "       0.06621984, 0.07166446, 0.06987578, 0.06570879, 0.06806747,\n",
            "       0.06792989, 0.06311426, 0.05360093, 0.05586133, 0.06582672,\n",
            "       0.06183664, 0.06427392, 0.05654927, 0.04141443, 0.04733078,\n",
            "       0.05686376, 0.05301126, 0.05424955, 0.04772389, 0.03948817,\n",
            "       0.03368976, 0.03840711, 0.04813665, 0.05654927, 0.0544068 ,\n",
            "       0.04738975, 0.0378371 , 0.0310559 , 0.03319837, 0.03614672,\n",
            "       0.02368504, 0.02671201, 0.02122808, 0.02160155, 0.0194984 ]), array([0.01908564, 0.01574418, 0.00919885, 0.01629453, 0.01185236,\n",
            "       0.02362609, 0.02836309, 0.02390127, 0.02189638, 0.01448622,\n",
            "       0.02592579, 0.04074614, 0.04306551, 0.0458173 , 0.03752261,\n",
            "       0.04231859, 0.04514901, 0.05672618, 0.04664283, 0.05542889,\n",
            "       0.06097179, 0.06020522, 0.06376288, 0.06167939, 0.06621984,\n",
            "       0.07166446, 0.06987578, 0.06570879, 0.06806747, 0.06792989,\n",
            "       0.06311426, 0.05360093, 0.05586133, 0.06582672, 0.06183664,\n",
            "       0.06427392, 0.05654927, 0.04141443, 0.04733078, 0.05686376,\n",
            "       0.05301126, 0.05424955, 0.04772389, 0.03948817, 0.03368976,\n",
            "       0.03840711, 0.04813665, 0.05654927, 0.0544068 , 0.04738975,\n",
            "       0.0378371 , 0.0310559 , 0.03319837, 0.03614672, 0.02368504,\n",
            "       0.02671201, 0.02122808, 0.02160155, 0.0194984 , 0.01908564])]\n",
            "[0.0190856396831508, 0.029286894466953428]\n"
          ],
          "name": "stdout"
        }
      ]
    },
    {
      "cell_type": "code",
      "metadata": {
        "id": "yP04nPZyOGYT",
        "colab_type": "code",
        "colab": {}
      },
      "source": [
        "#Convert x_train and y_train to numpy arrays\n",
        "x_train, y_train = np.array(x_train), np.array(y_train)\n"
      ],
      "execution_count": 0,
      "outputs": []
    },
    {
      "cell_type": "code",
      "metadata": {
        "id": "t2mUZ6v-Nwtl",
        "colab_type": "code",
        "colab": {
          "base_uri": "https://localhost:8080/",
          "height": 34
        },
        "outputId": "5264c638-d252-42c7-d123-442377c32652"
      },
      "source": [
        "#Reshape the data\n",
        "x_train = np.reshape(x_train, (x_train.shape[0],x_train.shape[1], 1))\n",
        "x_train.shape"
      ],
      "execution_count": 23,
      "outputs": [
        {
          "output_type": "execute_result",
          "data": {
            "text/plain": [
              "(1580, 60, 1)"
            ]
          },
          "metadata": {
            "tags": []
          },
          "execution_count": 23
        }
      ]
    },
    {
      "cell_type": "code",
      "metadata": {
        "id": "JysHo2cwRZFy",
        "colab_type": "code",
        "colab": {}
      },
      "source": [
        "model = Sequential()\n",
        "model.add(LSTM(50, return_sequences=True, input_shape= (x_train.shape[1], 1)))\n",
        "model.add(LSTM(50, return_sequences=False))\n",
        "model.add(Dense(25))\n",
        "model.add(Dense(1))\n",
        "\n"
      ],
      "execution_count": 0,
      "outputs": []
    },
    {
      "cell_type": "code",
      "metadata": {
        "id": "7Yd0fsMtSVvn",
        "colab_type": "code",
        "colab": {}
      },
      "source": [
        "#compile the model\n",
        "model.compile(optimizer='adam', loss='mean_squared_error')"
      ],
      "execution_count": 0,
      "outputs": []
    },
    {
      "cell_type": "code",
      "metadata": {
        "id": "rxxkHRzpSiek",
        "colab_type": "code",
        "colab": {
          "base_uri": "https://localhost:8080/",
          "height": 68
        },
        "outputId": "b28d462a-91f9-4f32-9e24-9b9ed26321ce"
      },
      "source": [
        "#Train the model\n",
        "model.fit(x_train, y_train, batch_size=1, epochs=1)"
      ],
      "execution_count": 32,
      "outputs": [
        {
          "output_type": "stream",
          "text": [
            "Epoch 1/1\n",
            "1580/1580 [==============================] - 59s 37ms/step - loss: 9.7983e-04\n"
          ],
          "name": "stdout"
        },
        {
          "output_type": "execute_result",
          "data": {
            "text/plain": [
              "<keras.callbacks.callbacks.History at 0x7f9749238da0>"
            ]
          },
          "metadata": {
            "tags": []
          },
          "execution_count": 32
        }
      ]
    },
    {
      "cell_type": "code",
      "metadata": {
        "id": "rKoKhNQMTTR7",
        "colab_type": "code",
        "colab": {}
      },
      "source": [
        "test_data = scaled_data[training_data_len - 60: , :]\n",
        "x_test = []\n",
        "y_test = dataset[training_data_len:, :]\n",
        "for i in range(60, len(test_data)):\n",
        "  x_test.append(test_data[i-60:i, 0])"
      ],
      "execution_count": 0,
      "outputs": []
    },
    {
      "cell_type": "code",
      "metadata": {
        "id": "IDixD899UIP9",
        "colab_type": "code",
        "colab": {
          "base_uri": "https://localhost:8080/",
          "height": 238
        },
        "outputId": "f5fab1ef-f54d-4be8-a98a-0f7467156a87"
      },
      "source": [
        "#convert the data to a numpy array\n",
        "\n",
        "x_test = np.array(x_test)\n",
        "x_test"
      ],
      "execution_count": 35,
      "outputs": [
        {
          "output_type": "execute_result",
          "data": {
            "text/plain": [
              "array([[0.46583852, 0.47393663, 0.47928301, ..., 0.73229027, 0.73861942,\n",
              "        0.74962657],\n",
              "       [0.47393663, 0.47928301, 0.48459003, ..., 0.73861942, 0.74962657,\n",
              "        0.77124777],\n",
              "       [0.47928301, 0.48459003, 0.49791651, ..., 0.74962657, 0.77124777,\n",
              "        0.75174934],\n",
              "       ...,\n",
              "       [0.84409157, 0.82353176, 0.85568839, ..., 0.85612076, 0.8868229 ,\n",
              "        0.86260712],\n",
              "       [0.82353176, 0.85568839, 0.87306395, ..., 0.8868229 , 0.86260712,\n",
              "        0.88261661],\n",
              "       [0.85568839, 0.87306395, 0.88037589, ..., 0.86260712, 0.88261661,\n",
              "        0.88269522]])"
            ]
          },
          "metadata": {
            "tags": []
          },
          "execution_count": 35
        }
      ]
    },
    {
      "cell_type": "code",
      "metadata": {
        "id": "0NWswfdOUTgE",
        "colab_type": "code",
        "colab": {}
      },
      "source": [
        "#reshape the data\n",
        "x_test = np.reshape(x_test, (x_test.shape[0], x_test.shape[1], 1))"
      ],
      "execution_count": 0,
      "outputs": []
    },
    {
      "cell_type": "code",
      "metadata": {
        "id": "u0yviUfZUrkV",
        "colab_type": "code",
        "colab": {
          "base_uri": "https://localhost:8080/",
          "height": 1000
        },
        "outputId": "b17b820d-c87b-4354-ae27-e4cb6781ebc4"
      },
      "source": [
        "#get the models predicted price of values\n",
        "predictions = model.predict(x_test)\n",
        "predictions = scaler.inverse_transform(predictions)\n",
        "predictions"
      ],
      "execution_count": 38,
      "outputs": [
        {
          "output_type": "execute_result",
          "data": {
            "text/plain": [
              "array([[1258.6989 ],\n",
              "       [1271.8854 ],\n",
              "       [1282.1393 ],\n",
              "       [1288.0797 ],\n",
              "       [1288.0896 ],\n",
              "       [1284.0675 ],\n",
              "       [1279.7836 ],\n",
              "       [1274.2338 ],\n",
              "       [1272.1742 ],\n",
              "       [1273.6251 ],\n",
              "       [1274.3462 ],\n",
              "       [1272.9601 ],\n",
              "       [1272.2404 ],\n",
              "       [1271.8987 ],\n",
              "       [1269.0457 ],\n",
              "       [1264.4928 ],\n",
              "       [1258.9299 ],\n",
              "       [1254.1174 ],\n",
              "       [1251.5812 ],\n",
              "       [1250.2183 ],\n",
              "       [1251.6875 ],\n",
              "       [1254.5509 ],\n",
              "       [1258.2407 ],\n",
              "       [1259.3064 ],\n",
              "       [1256.4114 ],\n",
              "       [1243.608  ],\n",
              "       [1220.135  ],\n",
              "       [1199.9958 ],\n",
              "       [1181.2095 ],\n",
              "       [1166.287  ],\n",
              "       [1153.2866 ],\n",
              "       [1146.5006 ],\n",
              "       [1144.6523 ],\n",
              "       [1147.8345 ],\n",
              "       [1151.8431 ],\n",
              "       [1150.8567 ],\n",
              "       [1143.7407 ],\n",
              "       [1133.5487 ],\n",
              "       [1121.8885 ],\n",
              "       [1109.1411 ],\n",
              "       [1098.5637 ],\n",
              "       [1094.3694 ],\n",
              "       [1090.5312 ],\n",
              "       [1087.8119 ],\n",
              "       [1085.3721 ],\n",
              "       [1085.1888 ],\n",
              "       [1087.6152 ],\n",
              "       [1092.4359 ],\n",
              "       [1098.5856 ],\n",
              "       [1103.0148 ],\n",
              "       [1104.8379 ],\n",
              "       [1107.1642 ],\n",
              "       [1109.2644 ],\n",
              "       [1110.9436 ],\n",
              "       [1115.3356 ],\n",
              "       [1122.8142 ],\n",
              "       [1129.7532 ],\n",
              "       [1133.3287 ],\n",
              "       [1133.9493 ],\n",
              "       [1133.7523 ],\n",
              "       [1134.9946 ],\n",
              "       [1139.2399 ],\n",
              "       [1146.0911 ],\n",
              "       [1153.4305 ],\n",
              "       [1159.1874 ],\n",
              "       [1163.2146 ],\n",
              "       [1166.2789 ],\n",
              "       [1165.3684 ],\n",
              "       [1163.7327 ],\n",
              "       [1157.4529 ],\n",
              "       [1150.4102 ],\n",
              "       [1144.9423 ],\n",
              "       [1140.4159 ],\n",
              "       [1137.3661 ],\n",
              "       [1137.1307 ],\n",
              "       [1138.9191 ],\n",
              "       [1141.567  ],\n",
              "       [1143.5391 ],\n",
              "       [1142.1545 ],\n",
              "       [1138.2157 ],\n",
              "       [1134.3333 ],\n",
              "       [1133.0138 ],\n",
              "       [1133.5641 ],\n",
              "       [1134.5573 ],\n",
              "       [1135.6721 ],\n",
              "       [1135.2592 ],\n",
              "       [1132.7985 ],\n",
              "       [1130.1919 ],\n",
              "       [1128.3469 ],\n",
              "       [1127.0325 ],\n",
              "       [1126.7349 ],\n",
              "       [1126.6241 ],\n",
              "       [1125.6803 ],\n",
              "       [1124.32   ],\n",
              "       [1126.1943 ],\n",
              "       [1129.997  ],\n",
              "       [1134.2334 ],\n",
              "       [1143.3142 ],\n",
              "       [1159.0902 ],\n",
              "       [1176.1683 ],\n",
              "       [1191.3287 ],\n",
              "       [1206.1847 ],\n",
              "       [1219.1401 ],\n",
              "       [1228.2084 ],\n",
              "       [1232.6194 ],\n",
              "       [1232.8632 ],\n",
              "       [1234.2567 ],\n",
              "       [1238.241  ],\n",
              "       [1247.1802 ],\n",
              "       [1257.5996 ],\n",
              "       [1269.6428 ],\n",
              "       [1279.211  ],\n",
              "       [1285.4427 ],\n",
              "       [1287.0043 ],\n",
              "       [1286.5394 ],\n",
              "       [1281.8602 ],\n",
              "       [1277.7753 ],\n",
              "       [1271.8416 ],\n",
              "       [1265.3359 ],\n",
              "       [1261.0538 ],\n",
              "       [1259.4854 ],\n",
              "       [1257.9237 ],\n",
              "       [1256.6101 ],\n",
              "       [1254.3333 ],\n",
              "       [1252.1857 ],\n",
              "       [1251.0452 ],\n",
              "       [1249.975  ],\n",
              "       [1250.2389 ],\n",
              "       [1253.8074 ],\n",
              "       [1259.0775 ],\n",
              "       [1264.3356 ],\n",
              "       [1272.7996 ],\n",
              "       [1284.5453 ],\n",
              "       [1298.2114 ],\n",
              "       [1310.8027 ],\n",
              "       [1319.634  ],\n",
              "       [1328.6711 ],\n",
              "       [1339.3816 ],\n",
              "       [1349.599  ],\n",
              "       [1355.2075 ],\n",
              "       [1356.4604 ],\n",
              "       [1359.8107 ],\n",
              "       [1361.8088 ],\n",
              "       [1364.1707 ],\n",
              "       [1369.614  ],\n",
              "       [1375.6552 ],\n",
              "       [1379.9918 ],\n",
              "       [1380.9465 ],\n",
              "       [1380.3551 ],\n",
              "       [1376.5841 ],\n",
              "       [1372.2935 ],\n",
              "       [1367.8339 ],\n",
              "       [1365.3071 ],\n",
              "       [1363.5431 ],\n",
              "       [1362.0837 ],\n",
              "       [1361.3062 ],\n",
              "       [1365.1407 ],\n",
              "       [1366.5671 ],\n",
              "       [1368.7789 ],\n",
              "       [1373.5817 ],\n",
              "       [1377.3215 ],\n",
              "       [1382.3163 ],\n",
              "       [1387.2921 ],\n",
              "       [1392.9885 ],\n",
              "       [1398.7703 ],\n",
              "       [1401.6083 ],\n",
              "       [1398.736  ],\n",
              "       [1389.1807 ],\n",
              "       [1373.2163 ],\n",
              "       [1355.3451 ],\n",
              "       [1336.3811 ],\n",
              "       [1321.6968 ],\n",
              "       [1310.0835 ],\n",
              "       [1302.0477 ],\n",
              "       [1296.7572 ],\n",
              "       [1299.2134 ],\n",
              "       [1306.3403 ],\n",
              "       [1315.0709 ],\n",
              "       [1323.0515 ],\n",
              "       [1330.1598 ],\n",
              "       [1333.4421 ],\n",
              "       [1335.9375 ],\n",
              "       [1336.6097 ],\n",
              "       [1338.0424 ],\n",
              "       [1339.6449 ],\n",
              "       [1344.1924 ],\n",
              "       [1348.7194 ],\n",
              "       [1350.4258 ],\n",
              "       [1349.4633 ],\n",
              "       [1347.757  ],\n",
              "       [1346.819  ],\n",
              "       [1346.606  ],\n",
              "       [1346.2833 ],\n",
              "       [1345.0095 ],\n",
              "       [1339.9233 ],\n",
              "       [1333.5223 ],\n",
              "       [1326.7223 ],\n",
              "       [1322.3612 ],\n",
              "       [1317.8114 ],\n",
              "       [1312.0215 ],\n",
              "       [1309.6312 ],\n",
              "       [1308.7968 ],\n",
              "       [1306.8386 ],\n",
              "       [1302.5118 ],\n",
              "       [1299.1097 ],\n",
              "       [1297.3596 ],\n",
              "       [1296.9581 ],\n",
              "       [1297.393  ],\n",
              "       [1296.1165 ],\n",
              "       [1293.0865 ],\n",
              "       [1292.3392 ],\n",
              "       [1292.5056 ],\n",
              "       [1293.3993 ],\n",
              "       [1294.4437 ],\n",
              "       [1295.0195 ],\n",
              "       [1297.0193 ],\n",
              "       [1298.3066 ],\n",
              "       [1297.1703 ],\n",
              "       [1293.7528 ],\n",
              "       [1292.7555 ],\n",
              "       [1292.1805 ],\n",
              "       [1290.4816 ],\n",
              "       [1285.702  ],\n",
              "       [1278.2246 ],\n",
              "       [1269.9293 ],\n",
              "       [1259.0271 ],\n",
              "       [1246.5812 ],\n",
              "       [1236.0537 ],\n",
              "       [1227.8541 ],\n",
              "       [1217.492  ],\n",
              "       [1205.755  ],\n",
              "       [1192.6185 ],\n",
              "       [1184.4528 ],\n",
              "       [1180.3412 ],\n",
              "       [1189.9875 ],\n",
              "       [1206.3969 ],\n",
              "       [1223.4753 ],\n",
              "       [1240.6764 ],\n",
              "       [1254.4114 ],\n",
              "       [1264.5961 ],\n",
              "       [1269.5518 ],\n",
              "       [1274.453  ],\n",
              "       [1277.7585 ],\n",
              "       [1280.8268 ],\n",
              "       [1282.2839 ],\n",
              "       [1280.7161 ],\n",
              "       [1278.6123 ],\n",
              "       [1272.1832 ],\n",
              "       [1263.9531 ],\n",
              "       [1255.4017 ],\n",
              "       [1249.96   ],\n",
              "       [1246.4725 ],\n",
              "       [1245.5651 ],\n",
              "       [1243.5646 ],\n",
              "       [1242.8809 ],\n",
              "       [1241.3308 ],\n",
              "       [1238.237  ],\n",
              "       [1235.5598 ],\n",
              "       [1230.6141 ],\n",
              "       [1232.7339 ],\n",
              "       [1236.2521 ],\n",
              "       [1244.2095 ],\n",
              "       [1253.4626 ],\n",
              "       [1264.1779 ],\n",
              "       [1275.6798 ],\n",
              "       [1288.6836 ],\n",
              "       [1298.249  ],\n",
              "       [1305.9272 ],\n",
              "       [1311.5525 ],\n",
              "       [1315.8187 ],\n",
              "       [1320.452  ],\n",
              "       [1328.5494 ],\n",
              "       [1336.3442 ],\n",
              "       [1343.8518 ],\n",
              "       [1351.0624 ],\n",
              "       [1358.2015 ],\n",
              "       [1366.9724 ],\n",
              "       [1377.525  ],\n",
              "       [1387.5829 ],\n",
              "       [1394.255  ],\n",
              "       [1403.1282 ],\n",
              "       [1411.387  ],\n",
              "       [1422.1537 ],\n",
              "       [1434.0507 ],\n",
              "       [1443.7924 ],\n",
              "       [1450.8741 ],\n",
              "       [1456.0619 ],\n",
              "       [1458.7699 ],\n",
              "       [1458.8419 ],\n",
              "       [1460.0553 ],\n",
              "       [1460.2628 ],\n",
              "       [1458.328  ],\n",
              "       [1460.0779 ],\n",
              "       [1462.2247 ],\n",
              "       [1465.2653 ],\n",
              "       [1467.2438 ],\n",
              "       [1473.5969 ],\n",
              "       [1484.8561 ],\n",
              "       [1496.1595 ],\n",
              "       [1507.3181 ],\n",
              "       [1518.6854 ],\n",
              "       [1528.7594 ],\n",
              "       [1538.1362 ],\n",
              "       [1547.1744 ],\n",
              "       [1552.2009 ],\n",
              "       [1558.458  ],\n",
              "       [1563.6611 ],\n",
              "       [1565.3502 ],\n",
              "       [1565.1863 ],\n",
              "       [1564.5391 ],\n",
              "       [1565.4342 ],\n",
              "       [1565.8401 ],\n",
              "       [1566.1252 ],\n",
              "       [1566.8986 ],\n",
              "       [1569.2379 ],\n",
              "       [1570.4158 ],\n",
              "       [1570.6705 ],\n",
              "       [1571.7587 ],\n",
              "       [1576.3734 ],\n",
              "       [1580.9352 ],\n",
              "       [1582.4197 ],\n",
              "       [1580.0278 ],\n",
              "       [1573.1158 ],\n",
              "       [1567.5292 ],\n",
              "       [1563.1042 ],\n",
              "       [1556.7555 ],\n",
              "       [1549.9083 ],\n",
              "       [1546.0414 ],\n",
              "       [1544.0128 ],\n",
              "       [1539.6027 ],\n",
              "       [1537.0026 ],\n",
              "       [1534.2273 ],\n",
              "       [1535.1554 ],\n",
              "       [1537.5046 ],\n",
              "       [1539.945  ],\n",
              "       [1540.8052 ],\n",
              "       [1540.3507 ],\n",
              "       [1540.694  ],\n",
              "       [1545.5021 ],\n",
              "       [1546.922  ],\n",
              "       [1547.0856 ],\n",
              "       [1546.5183 ],\n",
              "       [1545.0051 ],\n",
              "       [1542.706  ],\n",
              "       [1538.8167 ],\n",
              "       [1531.2281 ],\n",
              "       [1523.6234 ],\n",
              "       [1513.1342 ],\n",
              "       [1499.3721 ],\n",
              "       [1482.9856 ],\n",
              "       [1471.1195 ],\n",
              "       [1464.5519 ],\n",
              "       [1462.06   ],\n",
              "       [1459.4011 ],\n",
              "       [1457.2836 ],\n",
              "       [1457.2964 ],\n",
              "       [1459.9548 ],\n",
              "       [1463.9015 ],\n",
              "       [1469.3842 ],\n",
              "       [1474.036  ],\n",
              "       [1476.7908 ],\n",
              "       [1481.9875 ],\n",
              "       [1485.8186 ],\n",
              "       [1484.6783 ],\n",
              "       [1478.6578 ],\n",
              "       [1468.5812 ],\n",
              "       [1457.075  ],\n",
              "       [1440.316  ],\n",
              "       [1421.756  ],\n",
              "       [1406.8336 ],\n",
              "       [1394.7036 ],\n",
              "       [1382.3661 ],\n",
              "       [1367.3256 ],\n",
              "       [1336.9841 ],\n",
              "       [1306.7594 ],\n",
              "       [1270.104  ],\n",
              "       [1238.4703 ],\n",
              "       [1203.1669 ],\n",
              "       [1169.0964 ],\n",
              "       [1134.9424 ],\n",
              "       [1099.0787 ],\n",
              "       [1076.0006 ],\n",
              "       [1047.7449 ],\n",
              "       [1026.0369 ],\n",
              "       [1023.36743],\n",
              "       [1028.4774 ],\n",
              "       [1036.997  ],\n",
              "       [1042.7615 ],\n",
              "       [1054.9962 ],\n",
              "       [1065.5115 ],\n",
              "       [1073.9011 ],\n",
              "       [1093.3418 ],\n",
              "       [1114.4418 ],\n",
              "       [1137.1614 ],\n",
              "       [1155.1586 ],\n",
              "       [1165.151  ],\n",
              "       [1172.1437 ],\n",
              "       [1182.4928 ],\n",
              "       [1195.2568 ],\n",
              "       [1207.2706 ],\n",
              "       [1230.5339 ],\n",
              "       [1257.1866 ],\n",
              "       [1287.5161 ],\n",
              "       [1317.6411 ],\n",
              "       [1344.3954 ],\n",
              "       [1366.6737 ],\n",
              "       [1388.4143 ],\n",
              "       [1404.382  ],\n",
              "       [1418.6865 ],\n",
              "       [1430.597  ]], dtype=float32)"
            ]
          },
          "metadata": {
            "tags": []
          },
          "execution_count": 38
        }
      ]
    },
    {
      "cell_type": "code",
      "metadata": {
        "id": "6wP5EMipVFog",
        "colab_type": "code",
        "colab": {
          "base_uri": "https://localhost:8080/",
          "height": 34
        },
        "outputId": "f2c2d186-7122-430a-a9f1-67e7f35573d4"
      },
      "source": [
        "#Get the rms error(RMSE)\n",
        "rmse = np.sqrt(np.mean(predictions - y_test)**2)\n",
        "rmse"
      ],
      "execution_count": 39,
      "outputs": [
        {
          "output_type": "execute_result",
          "data": {
            "text/plain": [
              "14.221942585270579"
            ]
          },
          "metadata": {
            "tags": []
          },
          "execution_count": 39
        }
      ]
    },
    {
      "cell_type": "code",
      "metadata": {
        "id": "9yzckDVcVqq-",
        "colab_type": "code",
        "colab": {
          "base_uri": "https://localhost:8080/",
          "height": 612
        },
        "outputId": "244cd346-8781-4802-a649-3af8ccb38dff"
      },
      "source": [
        "#plot the data\n",
        "train = data[:training_data_len]\n",
        "valid = data[training_data_len:]\n",
        "valid['Predictions'] = predictions\n",
        "#visualise the data\n",
        "plt.figure(figsize=(16,8))\n",
        "plt.title('model')\n",
        "plt.xlabel('Data',fontsize=10)\n",
        "plt.ylabel('Close Price', fontsize=18)\n",
        "plt.plot(train['Close'])\n",
        "plt.plot(valid[['Close', 'Predictions']])\n",
        "plt.legend(['Train', 'Val', 'Prediction'], loc='lower right')\n",
        "plt.show()\n"
      ],
      "execution_count": 43,
      "outputs": [
        {
          "output_type": "stream",
          "text": [
            "/usr/local/lib/python3.6/dist-packages/ipykernel_launcher.py:3: SettingWithCopyWarning: \n",
            "A value is trying to be set on a copy of a slice from a DataFrame.\n",
            "Try using .loc[row_indexer,col_indexer] = value instead\n",
            "\n",
            "See the caveats in the documentation: https://pandas.pydata.org/pandas-docs/stable/user_guide/indexing.html#returning-a-view-versus-a-copy\n",
            "  This is separate from the ipykernel package so we can avoid doing imports until\n"
          ],
          "name": "stderr"
        },
        {
          "output_type": "display_data",
          "data": {
            "image/png": "[encoded data removed]",
            "text/plain": [
              "<Figure size 1152x576 with 1 Axes>"
            ]
          },
          "metadata": {
            "tags": [],
            "needs_background": "light"
          }
        }
      ]
    },
    {
      "cell_type": "code",
      "metadata": {
        "id": "f3Cy_q9vXZsd",
        "colab_type": "code",
        "colab": {
          "base_uri": "https://localhost:8080/",
          "height": 450
        },
        "outputId": "a5e1d5f5-2fd1-4262-b92a-aff7505f389f"
      },
      "source": [
        "#Show the valid and predicted price\n",
        "valid"
      ],
      "execution_count": 44,
      "outputs": [
        {
          "output_type": "execute_result",
          "data": {
            "text/html": [
              "<div>\n",
              "<style scoped>\n",
              "    .dataframe tbody tr th:only-of-type {\n",
              "        vertical-align: middle;\n",
              "    }\n",
              "\n",
              "    .dataframe tbody tr th {\n",
              "        vertical-align: top;\n",
              "    }\n",
              "\n",
              "    .dataframe thead th {\n",
              "        text-align: right;\n",
              "    }\n",
              "</style>\n",
              "<table border=\"1\" class=\"dataframe\">\n",
              "  <thead>\n",
              "    <tr style=\"text-align: right;\">\n",
              "      <th></th>\n",
              "      <th>Close</th>\n",
              "      <th>Predictions</th>\n",
              "    </tr>\n",
              "    <tr>\n",
              "      <th>Date</th>\n",
              "      <th></th>\n",
              "      <th></th>\n",
              "    </tr>\n",
              "  </thead>\n",
              "  <tbody>\n",
              "    <tr>\n",
              "      <th>2018-08-28</th>\n",
              "      <td>1319.000000</td>\n",
              "      <td>1258.698853</td>\n",
              "    </tr>\n",
              "    <tr>\n",
              "      <th>2018-08-29</th>\n",
              "      <td>1294.199951</td>\n",
              "      <td>1271.885376</td>\n",
              "    </tr>\n",
              "    <tr>\n",
              "      <th>2018-08-30</th>\n",
              "      <td>1274.449951</td>\n",
              "      <td>1282.139282</td>\n",
              "    </tr>\n",
              "    <tr>\n",
              "      <th>2018-08-31</th>\n",
              "      <td>1241.650024</td>\n",
              "      <td>1288.079712</td>\n",
              "    </tr>\n",
              "    <tr>\n",
              "      <th>2018-09-03</th>\n",
              "      <td>1229.150024</td>\n",
              "      <td>1288.089600</td>\n",
              "    </tr>\n",
              "    <tr>\n",
              "      <th>...</th>\n",
              "      <td>...</td>\n",
              "      <td>...</td>\n",
              "    </tr>\n",
              "    <tr>\n",
              "      <th>2020-04-30</th>\n",
              "      <td>1466.000000</td>\n",
              "      <td>1366.673706</td>\n",
              "    </tr>\n",
              "    <tr>\n",
              "      <th>2020-05-04</th>\n",
              "      <td>1435.199951</td>\n",
              "      <td>1388.414307</td>\n",
              "    </tr>\n",
              "    <tr>\n",
              "      <th>2020-05-05</th>\n",
              "      <td>1460.650024</td>\n",
              "      <td>1404.381958</td>\n",
              "    </tr>\n",
              "    <tr>\n",
              "      <th>2020-05-06</th>\n",
              "      <td>1460.750000</td>\n",
              "      <td>1418.686523</td>\n",
              "    </tr>\n",
              "    <tr>\n",
              "      <th>2020-05-07</th>\n",
              "      <td>1506.949951</td>\n",
              "      <td>1430.597046</td>\n",
              "    </tr>\n",
              "  </tbody>\n",
              "</table>\n",
              "<p>410 rows × 2 columns</p>\n",
              "</div>"
            ],
            "text/plain": [
              "                  Close  Predictions\n",
              "Date                                \n",
              "2018-08-28  1319.000000  1258.698853\n",
              "2018-08-29  1294.199951  1271.885376\n",
              "2018-08-30  1274.449951  1282.139282\n",
              "2018-08-31  1241.650024  1288.079712\n",
              "2018-09-03  1229.150024  1288.089600\n",
              "...                 ...          ...\n",
              "2020-04-30  1466.000000  1366.673706\n",
              "2020-05-04  1435.199951  1388.414307\n",
              "2020-05-05  1460.650024  1404.381958\n",
              "2020-05-06  1460.750000  1418.686523\n",
              "2020-05-07  1506.949951  1430.597046\n",
              "\n",
              "[410 rows x 2 columns]"
            ]
          },
          "metadata": {
            "tags": []
          },
          "execution_count": 44
        }
      ]
    },
    {
      "cell_type": "code",
      "metadata": {
        "id": "arRPKi31Xoyp",
        "colab_type": "code",
        "colab": {
          "base_uri": "https://localhost:8080/",
          "height": 34
        },
        "outputId": "30fa03aa-377d-4c33-d79c-60fe0629ac3b"
      },
      "source": [
        "#Get the quote\n",
        "reliance_quote = web.DataReader('RELIANCE.NS', data_source='yahoo', start='2012-01-01', end='2020-05-08')\n",
        "new_df = reliance_quote.filter(['Close'])\n",
        "last_60_days = new_df[-60:].values\n",
        "last_60_days_scaled = scaler.transform(last_60_days)\n",
        "X_test = []\n",
        "X_test.append(last_60_days_scaled)\n",
        "X_test= np.array(X_test)\n",
        "X_test = np.reshape(X_test, (X_test.shape[0], X_test.shape[1], 1))\n",
        "pred_price = model.predict(X_test)\n",
        "pred_price = scaler.inverse_transform(pred_price)\n",
        "print(pred_price)"
      ],
      "execution_count": 47,
      "outputs": [
        {
          "output_type": "stream",
          "text": [
            "[[1444.7794]]\n"
          ],
          "name": "stdout"
        }
      ]
    }
  ]
}